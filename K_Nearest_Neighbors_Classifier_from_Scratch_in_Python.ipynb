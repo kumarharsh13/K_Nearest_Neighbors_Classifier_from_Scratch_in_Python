{
  "cells": [
    {
      "cell_type": "markdown",
      "metadata": {
        "id": "MGvj_EDVkbHH"
      },
      "source": [
        "# **K-Nearest Neighbors Classifier**"
      ]
    },
    {
      "cell_type": "markdown",
      "metadata": {
        "id": "aLJPfj0y5jUc"
      },
      "source": [
        "**Importing Librabres**"
      ]
    },
    {
      "cell_type": "code",
      "execution_count": 2,
      "metadata": {
        "id": "NOWiN7SVkAXE"
      },
      "outputs": [],
      "source": [
        "import numpy as np\n",
        "import statistics\n",
        "import pandas as pd\n",
        "import matplotlib.pyplot as plt\n",
        "from sklearn.neighbors import KNeighborsClassifier\n",
        "from sklearn.model_selection import train_test_split\n",
        "from sklearn.metrics import accuracy_score"
      ]
    },
    {
      "cell_type": "markdown",
      "metadata": {
        "id": "ess5wDkb5_KM"
      },
      "source": [
        "**Creating a class: KNN_Classifier from Scratch**"
      ]
    },
    {
      "cell_type": "code",
      "execution_count": 3,
      "metadata": {
        "id": "iDELkP9Rk8pD"
      },
      "outputs": [],
      "source": [
        "class KNN_Classifier():\n",
        "\n",
        "  # Initiationg the parameters\n",
        "  def __init__(self,distance_metric):\n",
        "    self.distance_metric=distance_metric\n",
        "\n",
        "  # Getting the distance metric by using two distance method\n",
        "  def get_distance_metric(self, training_data_point, test_data_point):\n",
        "    if(self.distance_metric == 'Euclidean'):        # Using Euclidean distance \n",
        "      dist = 0\n",
        "      for i in range(len(training_data_point)-1):\n",
        "        dist = dist + (training_data_point[i] - test_data_point[i])**2\n",
        "\n",
        "      euclidean_dist=np.sqrt(dist)\n",
        "      return euclidean_dist\n",
        "\n",
        "    elif(self.distance_metric == 'Manhattan'):      # Using Manhattan distance\n",
        "      dist = 0\n",
        "      for i in range(len(training_data_point)-1):\n",
        "        dist = dist + abs(training_data_point[i] - test_data_point[i])\n",
        "\n",
        "      manhattan_dist = dist\n",
        "      return manhattan_dist \n",
        "  \n",
        "  # Getting the Nearest Neighbors\n",
        "  def nearest_neighbors(self, X_train, test_data, k):\n",
        "    distance_list=[]\n",
        "\n",
        "    for training_data in X_train:\n",
        "      distance = self.get_distance_metric(training_data, test_data)   # Calling the get_distance_metric function to calculate distance between training and test\n",
        "      distance_list.append((training_data,distance))      # Storing the training data with its corresponding distance in 2D Matrix\n",
        "\n",
        "    distance_list.sort(key=lambda x:x[1])  # Sorting the distance\n",
        "\n",
        "    neighbors_list=[]\n",
        "    for j in range(k):    # Appending the first k shortest distance in the neighbors list\n",
        "      neighbors_list.append(distance_list[j][0])\n",
        "    \n",
        "    return neighbors_list\n",
        "\n",
        "  # Predict the class of new data points\n",
        "  def predict(self, X_train, test_data, k):\n",
        "    neighbors=self.nearest_neighbors(X_train, test_data, k)\n",
        "    for data in neighbors:\n",
        "      label=[]\n",
        "      label.append(data[-1])  # [-1] target \n",
        "    predicted_class=statistics.mode(label)\n",
        "    return predicted_class \n"
      ]
    },
    {
      "cell_type": "markdown",
      "metadata": {
        "id": "3ZOt53Z6Ywtb"
      },
      "source": [
        "**K-Nearest Neighbour** <br>\n",
        "The K-Nearest Neighbour method is based on the Supervised Learning approach and is one of the most basic Machine Learning algorithms. The K-NN method assumes that the new case/data and existing cases are comparable and places the new case in the category that is most similar to the existing categories. The K-NN method saves all available data and classifies a new data point based on its similarity to the existing data. This implies that fresh data may be quickly sorted into a well-defined category using the K-NN method. The K-NN approach may be used for both regression and classification, however it is more commonly utilised for classification tasks. The K-NN algorithm is a non-parametric algorithm, which means it makes no assumptions about the underlying data.\n",
        "\n",
        "\n",
        "\n"
      ]
    },
    {
      "cell_type": "markdown",
      "metadata": {
        "id": "yjlXxeOzZjoR"
      },
      "source": [
        "**How does it work?**<br>\n",
        "The following method may be used to describe how K-NN works: <br>\n",
        "**Step 1:** Decide on the number of neighbours (K).<br>\n",
        "**Step 2**: Determine the Euclidean distance between K neighbours.<br>\n",
        "**Step 3:** Using the obtained Euclidean distance, find the K closest neighbours.<br>\n",
        "**Step 4:** Count the number of data points in each category among these k neighbours.<br>\n",
        "**Step 5**: Assign the new data points to the category with the greatest number of neighbours.<br>\n",
        "**Step 6**: We've completed our model."
      ]
    },
    {
      "cell_type": "markdown",
      "metadata": {
        "id": "c8tVrrmka0Ft"
      },
      "source": [
        "**Implemantaion** <br>\n",
        "In our implemantion, we will be finding the distance between the new data_instance. From there we will be findind the K nearest point and from that k points we will be categorizing the class of the new instance.\n",
        "\n",
        "**Steps followed:** <br>\n",
        "**Step 1:** Create a class for implementation.<br>\n",
        "**Step 2**: Defined a distance metric function for getting the distance via anyone of the two methods i.e. (Euclidean Distance and Manhattan Distance).<br>\n",
        "**Step 3:** Defined a nearest neighbor function for training the dataset and finding the k shortest distance from the neighbor list.<br>\n",
        "**Step 4:** Defined a prediction function which predicts the target values of the given netric.<br>\n",
        "**Step 5**: After performing this steps we would be calculation the accuracy score and we will compare the accuracy score with the inbuilt KNN Classifier Algorithm.<br>"
      ]
    },
    {
      "cell_type": "markdown",
      "metadata": {
        "id": "Bs9trRONetkg"
      },
      "source": [
        "### Heart Attack Prediction\n"
      ]
    },
    {
      "cell_type": "code",
      "execution_count": 4,
      "metadata": {
        "colab": {
          "base_uri": "https://localhost:8080/",
          "height": 206
        },
        "id": "-3lh82ptiG9l",
        "outputId": "ab95503d-f706-4f38-f647-d51469f8248c"
      },
      "outputs": [
        {
          "data": {
            "text/html": [
              "\n",
              "  <div id=\"df-96ffe2b2-fe0e-4bf8-b22d-00eda1b28bf9\">\n",
              "    <div class=\"colab-df-container\">\n",
              "      <div>\n",
              "<style scoped>\n",
              "    .dataframe tbody tr th:only-of-type {\n",
              "        vertical-align: middle;\n",
              "    }\n",
              "\n",
              "    .dataframe tbody tr th {\n",
              "        vertical-align: top;\n",
              "    }\n",
              "\n",
              "    .dataframe thead th {\n",
              "        text-align: right;\n",
              "    }\n",
              "</style>\n",
              "<table border=\"1\" class=\"dataframe\">\n",
              "  <thead>\n",
              "    <tr style=\"text-align: right;\">\n",
              "      <th></th>\n",
              "      <th>Age</th>\n",
              "      <th>Sex</th>\n",
              "      <th>ChestPainType</th>\n",
              "      <th>RestingBP</th>\n",
              "      <th>Cholestral</th>\n",
              "      <th>FastingBS</th>\n",
              "      <th>RestingECG</th>\n",
              "      <th>MaxHR</th>\n",
              "      <th>ExerciseAngina</th>\n",
              "      <th>Oldpeak</th>\n",
              "      <th>ST_Slope</th>\n",
              "      <th>Target</th>\n",
              "    </tr>\n",
              "  </thead>\n",
              "  <tbody>\n",
              "    <tr>\n",
              "      <th>0</th>\n",
              "      <td>40</td>\n",
              "      <td>1</td>\n",
              "      <td>2</td>\n",
              "      <td>140</td>\n",
              "      <td>289</td>\n",
              "      <td>0</td>\n",
              "      <td>0</td>\n",
              "      <td>172</td>\n",
              "      <td>0</td>\n",
              "      <td>0.0</td>\n",
              "      <td>2</td>\n",
              "      <td>0</td>\n",
              "    </tr>\n",
              "    <tr>\n",
              "      <th>1</th>\n",
              "      <td>49</td>\n",
              "      <td>0</td>\n",
              "      <td>1</td>\n",
              "      <td>160</td>\n",
              "      <td>180</td>\n",
              "      <td>0</td>\n",
              "      <td>0</td>\n",
              "      <td>156</td>\n",
              "      <td>0</td>\n",
              "      <td>1.0</td>\n",
              "      <td>1</td>\n",
              "      <td>1</td>\n",
              "    </tr>\n",
              "    <tr>\n",
              "      <th>2</th>\n",
              "      <td>37</td>\n",
              "      <td>1</td>\n",
              "      <td>2</td>\n",
              "      <td>130</td>\n",
              "      <td>283</td>\n",
              "      <td>0</td>\n",
              "      <td>1</td>\n",
              "      <td>98</td>\n",
              "      <td>0</td>\n",
              "      <td>0.0</td>\n",
              "      <td>2</td>\n",
              "      <td>0</td>\n",
              "    </tr>\n",
              "    <tr>\n",
              "      <th>3</th>\n",
              "      <td>48</td>\n",
              "      <td>0</td>\n",
              "      <td>3</td>\n",
              "      <td>138</td>\n",
              "      <td>214</td>\n",
              "      <td>0</td>\n",
              "      <td>0</td>\n",
              "      <td>108</td>\n",
              "      <td>1</td>\n",
              "      <td>1.5</td>\n",
              "      <td>1</td>\n",
              "      <td>1</td>\n",
              "    </tr>\n",
              "    <tr>\n",
              "      <th>4</th>\n",
              "      <td>54</td>\n",
              "      <td>1</td>\n",
              "      <td>1</td>\n",
              "      <td>150</td>\n",
              "      <td>195</td>\n",
              "      <td>0</td>\n",
              "      <td>0</td>\n",
              "      <td>122</td>\n",
              "      <td>0</td>\n",
              "      <td>0.0</td>\n",
              "      <td>2</td>\n",
              "      <td>0</td>\n",
              "    </tr>\n",
              "  </tbody>\n",
              "</table>\n",
              "</div>\n",
              "      <button class=\"colab-df-convert\" onclick=\"convertToInteractive('df-96ffe2b2-fe0e-4bf8-b22d-00eda1b28bf9')\"\n",
              "              title=\"Convert this dataframe to an interactive table.\"\n",
              "              style=\"display:none;\">\n",
              "        \n",
              "  <svg xmlns=\"http://www.w3.org/2000/svg\" height=\"24px\"viewBox=\"0 0 24 24\"\n",
              "       width=\"24px\">\n",
              "    <path d=\"M0 0h24v24H0V0z\" fill=\"none\"/>\n",
              "    <path d=\"M18.56 5.44l.94 2.06.94-2.06 2.06-.94-2.06-.94-.94-2.06-.94 2.06-2.06.94zm-11 1L8.5 8.5l.94-2.06 2.06-.94-2.06-.94L8.5 2.5l-.94 2.06-2.06.94zm10 10l.94 2.06.94-2.06 2.06-.94-2.06-.94-.94-2.06-.94 2.06-2.06.94z\"/><path d=\"M17.41 7.96l-1.37-1.37c-.4-.4-.92-.59-1.43-.59-.52 0-1.04.2-1.43.59L10.3 9.45l-7.72 7.72c-.78.78-.78 2.05 0 2.83L4 21.41c.39.39.9.59 1.41.59.51 0 1.02-.2 1.41-.59l7.78-7.78 2.81-2.81c.8-.78.8-2.07 0-2.86zM5.41 20L4 18.59l7.72-7.72 1.47 1.35L5.41 20z\"/>\n",
              "  </svg>\n",
              "      </button>\n",
              "      \n",
              "  <style>\n",
              "    .colab-df-container {\n",
              "      display:flex;\n",
              "      flex-wrap:wrap;\n",
              "      gap: 12px;\n",
              "    }\n",
              "\n",
              "    .colab-df-convert {\n",
              "      background-color: #E8F0FE;\n",
              "      border: none;\n",
              "      border-radius: 50%;\n",
              "      cursor: pointer;\n",
              "      display: none;\n",
              "      fill: #1967D2;\n",
              "      height: 32px;\n",
              "      padding: 0 0 0 0;\n",
              "      width: 32px;\n",
              "    }\n",
              "\n",
              "    .colab-df-convert:hover {\n",
              "      background-color: #E2EBFA;\n",
              "      box-shadow: 0px 1px 2px rgba(60, 64, 67, 0.3), 0px 1px 3px 1px rgba(60, 64, 67, 0.15);\n",
              "      fill: #174EA6;\n",
              "    }\n",
              "\n",
              "    [theme=dark] .colab-df-convert {\n",
              "      background-color: #3B4455;\n",
              "      fill: #D2E3FC;\n",
              "    }\n",
              "\n",
              "    [theme=dark] .colab-df-convert:hover {\n",
              "      background-color: #434B5C;\n",
              "      box-shadow: 0px 1px 3px 1px rgba(0, 0, 0, 0.15);\n",
              "      filter: drop-shadow(0px 1px 2px rgba(0, 0, 0, 0.3));\n",
              "      fill: #FFFFFF;\n",
              "    }\n",
              "  </style>\n",
              "\n",
              "      <script>\n",
              "        const buttonEl =\n",
              "          document.querySelector('#df-96ffe2b2-fe0e-4bf8-b22d-00eda1b28bf9 button.colab-df-convert');\n",
              "        buttonEl.style.display =\n",
              "          google.colab.kernel.accessAllowed ? 'block' : 'none';\n",
              "\n",
              "        async function convertToInteractive(key) {\n",
              "          const element = document.querySelector('#df-96ffe2b2-fe0e-4bf8-b22d-00eda1b28bf9');\n",
              "          const dataTable =\n",
              "            await google.colab.kernel.invokeFunction('convertToInteractive',\n",
              "                                                     [key], {});\n",
              "          if (!dataTable) return;\n",
              "\n",
              "          const docLinkHtml = 'Like what you see? Visit the ' +\n",
              "            '<a target=\"_blank\" href=https://colab.research.google.com/notebooks/data_table.ipynb>data table notebook</a>'\n",
              "            + ' to learn more about interactive tables.';\n",
              "          element.innerHTML = '';\n",
              "          dataTable['output_type'] = 'display_data';\n",
              "          await google.colab.output.renderOutput(dataTable, element);\n",
              "          const docLink = document.createElement('div');\n",
              "          docLink.innerHTML = docLinkHtml;\n",
              "          element.appendChild(docLink);\n",
              "        }\n",
              "      </script>\n",
              "    </div>\n",
              "  </div>\n",
              "  "
            ],
            "text/plain": [
              "   Age  Sex  ChestPainType  RestingBP  Cholestral  FastingBS  RestingECG  \\\n",
              "0   40    1              2        140         289          0           0   \n",
              "1   49    0              1        160         180          0           0   \n",
              "2   37    1              2        130         283          0           1   \n",
              "3   48    0              3        138         214          0           0   \n",
              "4   54    1              1        150         195          0           0   \n",
              "\n",
              "   MaxHR  ExerciseAngina  Oldpeak  ST_Slope  Target  \n",
              "0    172               0      0.0         2       0  \n",
              "1    156               0      1.0         1       1  \n",
              "2     98               0      0.0         2       0  \n",
              "3    108               1      1.5         1       1  \n",
              "4    122               0      0.0         2       0  "
            ]
          },
          "execution_count": 4,
          "metadata": {},
          "output_type": "execute_result"
        }
      ],
      "source": [
        "heart_dataset=pd.read_csv(\"heart.csv\")    # Importing the dataset\n",
        "heart_dataset.head()        # Printng first five rows of the dataset"
      ]
    },
    {
      "cell_type": "code",
      "execution_count": 5,
      "metadata": {
        "colab": {
          "base_uri": "https://localhost:8080/"
        },
        "id": "EB7NP2_uigty",
        "outputId": "1e1ae14f-7dcd-481a-a76f-125bc2864a86"
      },
      "outputs": [
        {
          "data": {
            "text/plain": [
              "(918, 12)"
            ]
          },
          "execution_count": 5,
          "metadata": {},
          "output_type": "execute_result"
        }
      ],
      "source": [
        "heart_dataset.shape    # Printing the shape of data i.e. rows and columns"
      ]
    },
    {
      "cell_type": "code",
      "execution_count": 6,
      "metadata": {
        "colab": {
          "base_uri": "https://localhost:8080/",
          "height": 364
        },
        "id": "pl6X7TKpN-yd",
        "outputId": "cf226767-cb57-466f-f9ca-cb647ca84246"
      },
      "outputs": [
        {
          "data": {
            "text/html": [
              "\n",
              "  <div id=\"df-3e0e9140-a236-4b0d-aa9e-617de0692b8c\">\n",
              "    <div class=\"colab-df-container\">\n",
              "      <div>\n",
              "<style scoped>\n",
              "    .dataframe tbody tr th:only-of-type {\n",
              "        vertical-align: middle;\n",
              "    }\n",
              "\n",
              "    .dataframe tbody tr th {\n",
              "        vertical-align: top;\n",
              "    }\n",
              "\n",
              "    .dataframe thead th {\n",
              "        text-align: right;\n",
              "    }\n",
              "</style>\n",
              "<table border=\"1\" class=\"dataframe\">\n",
              "  <thead>\n",
              "    <tr style=\"text-align: right;\">\n",
              "      <th></th>\n",
              "      <th>Age</th>\n",
              "      <th>Sex</th>\n",
              "      <th>ChestPainType</th>\n",
              "      <th>RestingBP</th>\n",
              "      <th>Cholestral</th>\n",
              "      <th>FastingBS</th>\n",
              "      <th>RestingECG</th>\n",
              "      <th>MaxHR</th>\n",
              "      <th>ExerciseAngina</th>\n",
              "      <th>Oldpeak</th>\n",
              "      <th>ST_Slope</th>\n",
              "      <th>Target</th>\n",
              "    </tr>\n",
              "  </thead>\n",
              "  <tbody>\n",
              "    <tr>\n",
              "      <th>count</th>\n",
              "      <td>918.000000</td>\n",
              "      <td>918.000000</td>\n",
              "      <td>918.000000</td>\n",
              "      <td>918.000000</td>\n",
              "      <td>918.000000</td>\n",
              "      <td>918.000000</td>\n",
              "      <td>918.000000</td>\n",
              "      <td>918.000000</td>\n",
              "      <td>918.000000</td>\n",
              "      <td>918.000000</td>\n",
              "      <td>918.000000</td>\n",
              "      <td>918.000000</td>\n",
              "    </tr>\n",
              "    <tr>\n",
              "      <th>mean</th>\n",
              "      <td>53.510893</td>\n",
              "      <td>0.789760</td>\n",
              "      <td>2.218954</td>\n",
              "      <td>132.396514</td>\n",
              "      <td>242.061002</td>\n",
              "      <td>0.234205</td>\n",
              "      <td>0.603486</td>\n",
              "      <td>136.809368</td>\n",
              "      <td>0.404139</td>\n",
              "      <td>0.887364</td>\n",
              "      <td>1.361656</td>\n",
              "      <td>0.553377</td>\n",
              "    </tr>\n",
              "    <tr>\n",
              "      <th>std</th>\n",
              "      <td>9.432617</td>\n",
              "      <td>0.407701</td>\n",
              "      <td>0.956519</td>\n",
              "      <td>18.514154</td>\n",
              "      <td>60.497164</td>\n",
              "      <td>0.423732</td>\n",
              "      <td>0.805968</td>\n",
              "      <td>25.460334</td>\n",
              "      <td>0.490992</td>\n",
              "      <td>1.066570</td>\n",
              "      <td>0.607056</td>\n",
              "      <td>0.497414</td>\n",
              "    </tr>\n",
              "    <tr>\n",
              "      <th>min</th>\n",
              "      <td>28.000000</td>\n",
              "      <td>0.000000</td>\n",
              "      <td>0.000000</td>\n",
              "      <td>0.000000</td>\n",
              "      <td>85.000000</td>\n",
              "      <td>0.000000</td>\n",
              "      <td>0.000000</td>\n",
              "      <td>60.000000</td>\n",
              "      <td>0.000000</td>\n",
              "      <td>-2.600000</td>\n",
              "      <td>0.000000</td>\n",
              "      <td>0.000000</td>\n",
              "    </tr>\n",
              "    <tr>\n",
              "      <th>25%</th>\n",
              "      <td>47.000000</td>\n",
              "      <td>1.000000</td>\n",
              "      <td>1.000000</td>\n",
              "      <td>120.000000</td>\n",
              "      <td>202.000000</td>\n",
              "      <td>0.000000</td>\n",
              "      <td>0.000000</td>\n",
              "      <td>120.000000</td>\n",
              "      <td>0.000000</td>\n",
              "      <td>0.000000</td>\n",
              "      <td>1.000000</td>\n",
              "      <td>0.000000</td>\n",
              "    </tr>\n",
              "    <tr>\n",
              "      <th>50%</th>\n",
              "      <td>54.000000</td>\n",
              "      <td>1.000000</td>\n",
              "      <td>3.000000</td>\n",
              "      <td>130.000000</td>\n",
              "      <td>234.000000</td>\n",
              "      <td>0.000000</td>\n",
              "      <td>0.000000</td>\n",
              "      <td>138.000000</td>\n",
              "      <td>0.000000</td>\n",
              "      <td>0.600000</td>\n",
              "      <td>1.000000</td>\n",
              "      <td>1.000000</td>\n",
              "    </tr>\n",
              "    <tr>\n",
              "      <th>75%</th>\n",
              "      <td>60.000000</td>\n",
              "      <td>1.000000</td>\n",
              "      <td>3.000000</td>\n",
              "      <td>140.000000</td>\n",
              "      <td>273.000000</td>\n",
              "      <td>0.000000</td>\n",
              "      <td>1.000000</td>\n",
              "      <td>156.000000</td>\n",
              "      <td>1.000000</td>\n",
              "      <td>1.500000</td>\n",
              "      <td>2.000000</td>\n",
              "      <td>1.000000</td>\n",
              "    </tr>\n",
              "    <tr>\n",
              "      <th>max</th>\n",
              "      <td>77.000000</td>\n",
              "      <td>1.000000</td>\n",
              "      <td>3.000000</td>\n",
              "      <td>200.000000</td>\n",
              "      <td>603.000000</td>\n",
              "      <td>1.000000</td>\n",
              "      <td>2.000000</td>\n",
              "      <td>202.000000</td>\n",
              "      <td>1.000000</td>\n",
              "      <td>6.200000</td>\n",
              "      <td>2.000000</td>\n",
              "      <td>1.000000</td>\n",
              "    </tr>\n",
              "  </tbody>\n",
              "</table>\n",
              "</div>\n",
              "      <button class=\"colab-df-convert\" onclick=\"convertToInteractive('df-3e0e9140-a236-4b0d-aa9e-617de0692b8c')\"\n",
              "              title=\"Convert this dataframe to an interactive table.\"\n",
              "              style=\"display:none;\">\n",
              "        \n",
              "  <svg xmlns=\"http://www.w3.org/2000/svg\" height=\"24px\"viewBox=\"0 0 24 24\"\n",
              "       width=\"24px\">\n",
              "    <path d=\"M0 0h24v24H0V0z\" fill=\"none\"/>\n",
              "    <path d=\"M18.56 5.44l.94 2.06.94-2.06 2.06-.94-2.06-.94-.94-2.06-.94 2.06-2.06.94zm-11 1L8.5 8.5l.94-2.06 2.06-.94-2.06-.94L8.5 2.5l-.94 2.06-2.06.94zm10 10l.94 2.06.94-2.06 2.06-.94-2.06-.94-.94-2.06-.94 2.06-2.06.94z\"/><path d=\"M17.41 7.96l-1.37-1.37c-.4-.4-.92-.59-1.43-.59-.52 0-1.04.2-1.43.59L10.3 9.45l-7.72 7.72c-.78.78-.78 2.05 0 2.83L4 21.41c.39.39.9.59 1.41.59.51 0 1.02-.2 1.41-.59l7.78-7.78 2.81-2.81c.8-.78.8-2.07 0-2.86zM5.41 20L4 18.59l7.72-7.72 1.47 1.35L5.41 20z\"/>\n",
              "  </svg>\n",
              "      </button>\n",
              "      \n",
              "  <style>\n",
              "    .colab-df-container {\n",
              "      display:flex;\n",
              "      flex-wrap:wrap;\n",
              "      gap: 12px;\n",
              "    }\n",
              "\n",
              "    .colab-df-convert {\n",
              "      background-color: #E8F0FE;\n",
              "      border: none;\n",
              "      border-radius: 50%;\n",
              "      cursor: pointer;\n",
              "      display: none;\n",
              "      fill: #1967D2;\n",
              "      height: 32px;\n",
              "      padding: 0 0 0 0;\n",
              "      width: 32px;\n",
              "    }\n",
              "\n",
              "    .colab-df-convert:hover {\n",
              "      background-color: #E2EBFA;\n",
              "      box-shadow: 0px 1px 2px rgba(60, 64, 67, 0.3), 0px 1px 3px 1px rgba(60, 64, 67, 0.15);\n",
              "      fill: #174EA6;\n",
              "    }\n",
              "\n",
              "    [theme=dark] .colab-df-convert {\n",
              "      background-color: #3B4455;\n",
              "      fill: #D2E3FC;\n",
              "    }\n",
              "\n",
              "    [theme=dark] .colab-df-convert:hover {\n",
              "      background-color: #434B5C;\n",
              "      box-shadow: 0px 1px 3px 1px rgba(0, 0, 0, 0.15);\n",
              "      filter: drop-shadow(0px 1px 2px rgba(0, 0, 0, 0.3));\n",
              "      fill: #FFFFFF;\n",
              "    }\n",
              "  </style>\n",
              "\n",
              "      <script>\n",
              "        const buttonEl =\n",
              "          document.querySelector('#df-3e0e9140-a236-4b0d-aa9e-617de0692b8c button.colab-df-convert');\n",
              "        buttonEl.style.display =\n",
              "          google.colab.kernel.accessAllowed ? 'block' : 'none';\n",
              "\n",
              "        async function convertToInteractive(key) {\n",
              "          const element = document.querySelector('#df-3e0e9140-a236-4b0d-aa9e-617de0692b8c');\n",
              "          const dataTable =\n",
              "            await google.colab.kernel.invokeFunction('convertToInteractive',\n",
              "                                                     [key], {});\n",
              "          if (!dataTable) return;\n",
              "\n",
              "          const docLinkHtml = 'Like what you see? Visit the ' +\n",
              "            '<a target=\"_blank\" href=https://colab.research.google.com/notebooks/data_table.ipynb>data table notebook</a>'\n",
              "            + ' to learn more about interactive tables.';\n",
              "          element.innerHTML = '';\n",
              "          dataTable['output_type'] = 'display_data';\n",
              "          await google.colab.output.renderOutput(dataTable, element);\n",
              "          const docLink = document.createElement('div');\n",
              "          docLink.innerHTML = docLinkHtml;\n",
              "          element.appendChild(docLink);\n",
              "        }\n",
              "      </script>\n",
              "    </div>\n",
              "  </div>\n",
              "  "
            ],
            "text/plain": [
              "              Age         Sex  ChestPainType   RestingBP  Cholestral  \\\n",
              "count  918.000000  918.000000     918.000000  918.000000  918.000000   \n",
              "mean    53.510893    0.789760       2.218954  132.396514  242.061002   \n",
              "std      9.432617    0.407701       0.956519   18.514154   60.497164   \n",
              "min     28.000000    0.000000       0.000000    0.000000   85.000000   \n",
              "25%     47.000000    1.000000       1.000000  120.000000  202.000000   \n",
              "50%     54.000000    1.000000       3.000000  130.000000  234.000000   \n",
              "75%     60.000000    1.000000       3.000000  140.000000  273.000000   \n",
              "max     77.000000    1.000000       3.000000  200.000000  603.000000   \n",
              "\n",
              "        FastingBS  RestingECG       MaxHR  ExerciseAngina     Oldpeak  \\\n",
              "count  918.000000  918.000000  918.000000      918.000000  918.000000   \n",
              "mean     0.234205    0.603486  136.809368        0.404139    0.887364   \n",
              "std      0.423732    0.805968   25.460334        0.490992    1.066570   \n",
              "min      0.000000    0.000000   60.000000        0.000000   -2.600000   \n",
              "25%      0.000000    0.000000  120.000000        0.000000    0.000000   \n",
              "50%      0.000000    0.000000  138.000000        0.000000    0.600000   \n",
              "75%      0.000000    1.000000  156.000000        1.000000    1.500000   \n",
              "max      1.000000    2.000000  202.000000        1.000000    6.200000   \n",
              "\n",
              "         ST_Slope      Target  \n",
              "count  918.000000  918.000000  \n",
              "mean     1.361656    0.553377  \n",
              "std      0.607056    0.497414  \n",
              "min      0.000000    0.000000  \n",
              "25%      1.000000    0.000000  \n",
              "50%      1.000000    1.000000  \n",
              "75%      2.000000    1.000000  \n",
              "max      2.000000    1.000000  "
            ]
          },
          "execution_count": 6,
          "metadata": {},
          "output_type": "execute_result"
        }
      ],
      "source": [
        "heart_dataset.describe()  # Describing the heart dataset"
      ]
    },
    {
      "cell_type": "code",
      "execution_count": 7,
      "metadata": {
        "colab": {
          "base_uri": "https://localhost:8080/",
          "height": 1000
        },
        "id": "U7eU7s9NOTAf",
        "outputId": "4c4beadc-edc3-4a38-adba-929d1662c90c"
      },
      "outputs": [
        {
          "data": {
            "image/png": "[encoded data removed]",
            "text/plain": [
              "<Figure size 1440x1440 with 12 Axes>"
            ]
          },
          "metadata": {
            "needs_background": "light"
          },
          "output_type": "display_data"
        }
      ],
      "source": [
        "heart_dataset.hist(bins=20,figsize=(20,20))  # Plotting the different features of dataset on histogram\n",
        "plt.show()"
      ]
    },
    {
      "cell_type": "code",
      "execution_count": 8,
      "metadata": {
        "id": "wCIUkCDtisSp"
      },
      "outputs": [],
      "source": [
        "# Dividing the dataset into X and Y\n",
        "X=heart_dataset.drop(columns='Target',axis=1) # X storing all the elements   \n",
        "Y=heart_dataset['Target'] # Y storing the target or output of the dataset\n",
        "X=X.to_numpy()\n",
        "Y=Y.to_numpy()"
      ]
    },
    {
      "cell_type": "code",
      "execution_count": 9,
      "metadata": {
        "colab": {
          "base_uri": "https://localhost:8080/"
        },
        "id": "HZStnTUejGS6",
        "outputId": "0622911e-caf2-4d42-a1bc-4fc558b330ee"
      },
      "outputs": [
        {
          "name": "stdout",
          "output_type": "stream",
          "text": [
            "[[40.   1.   2.  ...  0.   0.   2. ]\n",
            " [49.   0.   1.  ...  0.   1.   1. ]\n",
            " [37.   1.   2.  ...  0.   0.   2. ]\n",
            " ...\n",
            " [57.   1.   3.  ...  1.   1.2  1. ]\n",
            " [57.   0.   2.  ...  0.   0.   1. ]\n",
            " [38.   1.   1.  ...  0.   0.   2. ]]\n",
            "[0 1 0 1 0 0 0 0 1 0 0 1 0 1 0 0 1 0 1 1 0 0 0 1 0 0 0 0 0 0 1 0 1 1 0 0 1\n",
            " 0 0 0 0 1 0 0 1 0 0 0 0 1 1 1 0 0 0 0 1 1 0 1 0 0 0 1 0 0 0 0 1 0 1 0 1 0\n",
            " 1 0 1 0 0 1 0 0 1 0 1 1 1 0 1 0 0 0 0 1 0 1 0 0 0 0 1 0 1 1 1 0 0 0 0 0 0\n",
            " 1 0 0 0 1 1 1 0 1 1 0 0 1 0 0 0 0 0 0 0 1 1 1 0 1 0 0 1 1 1 1 1 0 1 0 0 0\n",
            " 0 1 0 0 0 0 0 1 1 0 1 0 1 1 0 0 0 1 1 0 0 0 0 0 0 0 1 1 1 0 0 0 1 0 1 0 0\n",
            " 1 0 1 0 1 0 0 0 0 0 0 0 0 1 0 0 0 0 0 0 0 0 1 0 1 1 1 0 0 1 0 1 0 0 0 1 1\n",
            " 0 0 0 1 0 1 0 0 0 0 0 0 0 0 1 1 1 1 0 1 1 0 1 0 1 1 1 1 1 1 0 0 1 0 0 0 0\n",
            " 0 0 0 1 1 1 0 1 0 1 0 0 0 1 0 0 0 1 1 0 0 0 1 0 0 0 0 0 0 0 0 0 0 0 1 1 1\n",
            " 1 1 1 1 1 0 1 1 1 1 1 0 1 1 0 1 1 1 0 1 1 1 1 1 1 1 1 1 1 1 0 1 1 1 1 1 0\n",
            " 1 1 1 0 1 1 1 1 1 1 1 1 1 1 1 1 1 1 1 1 1 1 1 1 1 1 1 1 1 1 1 0 1 1 1 1 1\n",
            " 1 1 1 1 1 1 1 1 1 1 1 1 1 1 1 1 1 1 1 1 1 1 1 1 1 1 1 1 1 1 1 1 1 1 1 1 1\n",
            " 1 1 1 1 1 1 1 1 1 1 0 1 1 0 0 1 0 1 1 0 1 1 1 1 0 1 1 0 0 1 1 1 0 1 1 1 1\n",
            " 1 1 1 1 1 1 1 1 1 0 1 0 1 1 1 0 1 1 1 0 1 0 1 0 1 0 1 1 1 1 0 1 0 1 1 1 1\n",
            " 1 1 1 1 1 0 1 0 1 1 1 1 1 1 1 0 1 1 1 1 1 1 0 1 1 1 0 1 1 0 1 0 1 1 0 1 1\n",
            " 1 1 0 1 1 1 0 0 1 0 1 1 1 1 1 1 1 1 1 1 1 0 1 1 1 1 0 0 1 1 1 0 1 0 1 1 0\n",
            " 1 0 1 1 1 0 0 0 1 1 1 0 1 1 1 1 1 1 1 1 1 1 1 1 1 1 1 1 0 1 1 1 0 1 1 0 0\n",
            " 1 1 1 1 1 0 1 1 0 1 1 1 0 0 1 1 1 1 1 0 1 0 1 1 0 1 0 0 0 1 1 1 1 0 0 0 1\n",
            " 0 0 1 1 0 0 1 0 0 0 0 0 0 0 1 0 1 0 0 1 1 1 1 1 0 0 1 0 0 0 1 0 1 1 1 1 1\n",
            " 0 0 0 0 0 1 0 1 1 0 1 0 0 0 1 0 1 0 1 1 0 0 0 0 1 0 0 0 0 1 1 1 0 0 0 0 0\n",
            " 0 1 0 1 1 1 1 1 0 1 0 0 0 1 0 1 1 1 0 1 1 0 1 0 1 0 0 0 1 1 0 1 1 1 1 0 0\n",
            " 0 1 0 0 1 1 1 0 1 0 0 0 1 0 0 1 0 1 0 1 1 1 1 1 0 0 0 0 0 0 0 1 0 0 1 1 1\n",
            " 0 1 0 0 0 0 0 1 0 1 1 0 0 1 1 1 1 0 0 1 1 0 0 0 1 0 0 1 0 1 0 1 0 0 0 0 0\n",
            " 1 0 1 1 1 1 0 0 0 1 0 1 0 0 1 0 0 0 0 0 0 1 1 0 1 0 0 1 1 0 0 1 1 0 1 0 1\n",
            " 0 1 0 0 1 0 0 1 0 1 1 0 1 1 1 0 1 0 0 0 0 1 1 0 0 1 1 0 1 0 0 0 0 1 0 0 1\n",
            " 1 1 0 0 0 1 0 1 0 1 0 1 1 1 0 0 0 1 0 1 1 1 0 1 1 1 1 1 1 0]\n"
          ]
        }
      ],
      "source": [
        "print(X)\n",
        "print(Y)"
      ]
    },
    {
      "cell_type": "code",
      "execution_count": 10,
      "metadata": {
        "colab": {
          "base_uri": "https://localhost:8080/"
        },
        "id": "Ub2Rai8AjMJg",
        "outputId": "4dc7c0dd-d33b-4c47-eb3e-f11bf8179b7a"
      },
      "outputs": [
        {
          "name": "stdout",
          "output_type": "stream",
          "text": [
            "(918, 11) (734, 11) (184, 11)\n"
          ]
        }
      ],
      "source": [
        "# Splitting the dataset into test set and traininset set using train_test_slpit function\n",
        "# test_size defines splitting the dataset into what proportion 0.2 significance divide the dataest in the ration of 80% and 20%\n",
        "# Here 80% for training and 00% for testing \n",
        "# stratify is used to split the data in stratified fashion.\n",
        "# random_state used to control the shuffling applied to the data before applying the split\n",
        "\n",
        "X_train, X_test, Y_train, Y_test = train_test_split(X, Y, test_size=0.2, stratify=Y, random_state=2) \n",
        "print(X.shape, X_train.shape, X_test.shape)"
      ]
    },
    {
      "cell_type": "code",
      "execution_count": 11,
      "metadata": {
        "colab": {
          "base_uri": "https://localhost:8080/"
        },
        "id": "BFSq3RObj1nJ",
        "outputId": "d406f461-4958-4167-9567-776474155859"
      },
      "outputs": [
        {
          "name": "stdout",
          "output_type": "stream",
          "text": [
            "[[49.   1.   1.  ...  0.   2.   1. ]\n",
            " [44.   1.   2.  ...  0.   1.   1. ]\n",
            " [51.   1.   3.  ...  1.   4.2  1. ]\n",
            " ...\n",
            " [43.   1.   3.  ...  0.   1.5  0. ]\n",
            " [62.   1.   1.  ...  0.   1.8  1. ]\n",
            " [50.   1.   3.  ...  1.   1.1  1. ]]\n"
          ]
        }
      ],
      "source": [
        "print(X_train)"
      ]
    },
    {
      "cell_type": "code",
      "execution_count": 12,
      "metadata": {
        "colab": {
          "base_uri": "https://localhost:8080/"
        },
        "id": "UirV-RDokEkO",
        "outputId": "8d417bcb-ce8f-42d4-b8eb-aeb726d4f6ee"
      },
      "outputs": [
        {
          "name": "stdout",
          "output_type": "stream",
          "text": [
            "[[49.   1.   1.  ...  2.   1.   1. ]\n",
            " [44.   1.   2.  ...  1.   1.   0. ]\n",
            " [51.   1.   3.  ...  4.2  1.   1. ]\n",
            " ...\n",
            " [43.   1.   3.  ...  1.5  0.   1. ]\n",
            " [62.   1.   1.  ...  1.8  1.   0. ]\n",
            " [50.   1.   3.  ...  1.1  1.   1. ]]\n"
          ]
        }
      ],
      "source": [
        "# Now Adding target data With X_train Data so Model predict well with X_test data\n",
        "X_train = np.insert(X_train, 11, Y_train, axis=1)\n",
        "print(X_train)"
      ]
    },
    {
      "cell_type": "code",
      "execution_count": 13,
      "metadata": {
        "colab": {
          "base_uri": "https://localhost:8080/"
        },
        "id": "b4DecFndkq35",
        "outputId": "60840c6a-7d22-4fca-e01b-84099fb07ba5"
      },
      "outputs": [
        {
          "data": {
            "text/plain": [
              "(734, 12)"
            ]
          },
          "execution_count": 13,
          "metadata": {},
          "output_type": "execute_result"
        }
      ],
      "source": [
        "X_train.shape"
      ]
    },
    {
      "cell_type": "code",
      "execution_count": 14,
      "metadata": {
        "colab": {
          "base_uri": "https://localhost:8080/"
        },
        "id": "x02X3h8PkwMz",
        "outputId": "aaefb0ef-f25a-48d5-8b8b-8feaf21f4bf1"
      },
      "outputs": [
        {
          "name": "stdout",
          "output_type": "stream",
          "text": [
            "[1. 0. 1. 1. 0. 0. 0. 1. 1. 0. 0. 1. 1. 1. 1. 1. 1. 0. 0. 1. 0. 1. 1. 1.\n",
            " 1. 1. 0. 0. 0. 1. 0. 1. 1. 1. 1. 0. 0. 0. 1. 1. 0. 0. 1. 1. 1. 1. 0. 0.\n",
            " 0. 1. 1. 1. 0. 0. 1. 1. 0. 1. 0. 0. 1. 0. 1. 1. 1. 1. 0. 1. 0. 1. 0. 1.\n",
            " 1. 1. 1. 0. 0. 0. 0. 0. 0. 1. 1. 1. 1. 1. 1. 0. 0. 1. 0. 1. 0. 1. 0. 0.\n",
            " 0. 1. 0. 1. 0. 1. 0. 1. 1. 0. 0. 0. 0. 0. 0. 0. 1. 0. 0. 1. 0. 1. 0. 0.\n",
            " 1. 1. 1. 1. 1. 0. 0. 1. 1. 1. 1. 1. 0. 1. 0. 0. 1. 0. 0. 1. 0. 1. 1. 1.\n",
            " 1. 1. 0. 1. 1. 1. 0. 0. 1. 1. 1. 0. 1. 0. 1. 0. 1. 0. 0. 0. 0. 0. 0. 0.\n",
            " 0. 0. 1. 0. 0. 1. 1. 1. 1. 1. 1. 0. 0. 1. 1. 1. 0. 1. 0. 0. 0. 1. 1. 0.\n",
            " 1. 1. 0. 0. 1. 0. 0. 1. 1. 0. 0. 0. 1. 0. 1. 1. 1. 1. 0. 1. 0. 0. 1. 0.\n",
            " 0. 1. 0. 0. 0. 0. 1. 1. 0. 1. 1. 1. 1. 1. 1. 1. 1. 1. 0. 1. 0. 1. 0. 1.\n",
            " 1. 0. 1. 0. 1. 1. 1. 0. 0. 0. 0. 1. 0. 0. 0. 0. 0. 1. 0. 0. 1. 0. 1. 0.\n",
            " 1. 1. 0. 1. 0. 0. 0. 0. 1. 1. 1. 0. 0. 1. 1. 1. 1. 1. 1. 0. 1. 1. 0. 0.\n",
            " 0. 0. 1. 1. 1. 0. 0. 1. 0. 1. 1. 0. 1. 1. 1. 1. 1. 1. 1. 1. 1. 0. 0. 1.\n",
            " 1. 1. 0. 0. 0. 0. 1. 0. 1. 1. 0. 1. 0. 0. 1. 0. 1. 1. 1. 1. 0. 0. 0. 1.\n",
            " 1. 1. 0. 1. 1. 0. 1. 0. 0. 1. 1. 1. 1. 0. 1. 1. 1. 0. 1. 1. 1. 1. 1. 1.\n",
            " 0. 1. 1. 1. 0. 1. 1. 0. 0. 0. 0. 1. 0. 0. 1. 0. 1. 0. 1. 0. 1. 1. 1. 0.\n",
            " 0. 0. 1. 0. 0. 1. 0. 0. 1. 0. 0. 0. 1. 1. 0. 0. 0. 0. 1. 1. 1. 0. 0. 1.\n",
            " 1. 1. 1. 0. 1. 1. 1. 1. 0. 0. 0. 0. 1. 1. 1. 1. 0. 1. 1. 1. 0. 1. 0. 1.\n",
            " 1. 0. 0. 0. 1. 1. 1. 1. 0. 0. 1. 0. 1. 0. 1. 0. 0. 1. 0. 1. 1. 0. 0. 1.\n",
            " 1. 0. 0. 1. 1. 1. 1. 0. 1. 1. 0. 0. 0. 1. 1. 1. 0. 0. 0. 1. 1. 1. 1. 1.\n",
            " 1. 0. 1. 0. 1. 1. 1. 0. 0. 1. 0. 0. 0. 0. 1. 0. 1. 1. 1. 1. 0. 1. 0. 1.\n",
            " 1. 1. 0. 1. 1. 0. 1. 0. 1. 1. 0. 0. 1. 1. 0. 1. 0. 0. 0. 1. 1. 0. 1. 0.\n",
            " 1. 1. 0. 0. 0. 0. 1. 1. 0. 1. 1. 0. 1. 1. 0. 0. 0. 1. 1. 0. 0. 1. 0. 0.\n",
            " 1. 0. 0. 0. 1. 0. 1. 1. 1. 0. 1. 1. 1. 1. 1. 0. 0. 0. 1. 1. 1. 1. 1. 0.\n",
            " 1. 0. 1. 1. 0. 1. 0. 1. 1. 1. 1. 0. 1. 1. 1. 1. 1. 0. 1. 1. 1. 0. 1. 0.\n",
            " 1. 0. 1. 0. 0. 1. 0. 1. 1. 1. 0. 1. 1. 1. 0. 0. 1. 1. 1. 0. 0. 0. 1. 1.\n",
            " 1. 1. 0. 1. 0. 1. 0. 0. 0. 1. 0. 0. 0. 0. 1. 1. 1. 1. 0. 1. 0. 1. 1. 1.\n",
            " 1. 0. 1. 1. 1. 1. 1. 0. 0. 0. 0. 0. 1. 0. 1. 0. 0. 0. 0. 1. 1. 1. 0. 0.\n",
            " 1. 1. 1. 0. 1. 1. 0. 0. 1. 1. 0. 0. 0. 1. 1. 0. 1. 0. 0. 1. 1. 1. 0. 0.\n",
            " 0. 0. 1. 0. 1. 1. 1. 0. 1. 1. 1. 0. 0. 1. 0. 0. 1. 1. 0. 1. 0. 1. 1. 0.\n",
            " 1. 1. 1. 0. 1. 1. 1. 0. 1. 1. 1. 1. 0. 1.]\n"
          ]
        }
      ],
      "source": [
        "print(X_train[:,11])"
      ]
    },
    {
      "cell_type": "markdown",
      "metadata": {
        "id": "6SiC_42Mk5wA"
      },
      "source": [
        "### Model Training: KNN Classifier (Using Manhattan Distance) "
      ]
    },
    {
      "cell_type": "code",
      "execution_count": 15,
      "metadata": {
        "id": "wqZtBgL_lMA7"
      },
      "outputs": [],
      "source": [
        "# we would be using Manhattan distance method for finding the nearest neighbor\n",
        "classifier = KNN_Classifier(distance_metric='Manhattan')"
      ]
    },
    {
      "cell_type": "code",
      "execution_count": 16,
      "metadata": {
        "id": "69-Z4dlXlqmc"
      },
      "outputs": [],
      "source": [
        "# Calling our prediction method\n",
        "predicition = classifier.predict(X_train, X_test[1], k=5)\n"
      ]
    },
    {
      "cell_type": "code",
      "execution_count": 17,
      "metadata": {
        "colab": {
          "base_uri": "https://localhost:8080/"
        },
        "id": "xaUKnTkSrMbR",
        "outputId": "6b1362ee-1eca-4b10-c5e1-10157572133d"
      },
      "outputs": [
        {
          "data": {
            "text/plain": [
              "(184, 11)"
            ]
          },
          "execution_count": 17,
          "metadata": {},
          "output_type": "execute_result"
        }
      ],
      "source": [
        "X_test.shape"
      ]
    },
    {
      "cell_type": "code",
      "execution_count": 18,
      "metadata": {
        "colab": {
          "base_uri": "https://localhost:8080/"
        },
        "id": "ax6evc1xrTnz",
        "outputId": "6366e9b8-e781-49d3-d7bc-59dfb859b1ca"
      },
      "outputs": [
        {
          "name": "stdout",
          "output_type": "stream",
          "text": [
            "184\n"
          ]
        }
      ],
      "source": [
        "X_test_size=X_test.shape[0]\n",
        "print(X_test_size)"
      ]
    },
    {
      "cell_type": "code",
      "execution_count": 19,
      "metadata": {
        "id": "tIZ8IKyCrhW8"
      },
      "outputs": [],
      "source": [
        "y_pred=[]\n",
        "for i in range(X_test_size):\n",
        "  predicition=classifier.predict(X_train,X_test[i],k=5)\n",
        "  y_pred.append(predicition)"
      ]
    },
    {
      "cell_type": "code",
      "execution_count": 20,
      "metadata": {
        "colab": {
          "base_uri": "https://localhost:8080/"
        },
        "id": "uh79ZfQRrnVm",
        "outputId": "1b66fbfa-eaab-41b5-9af6-95ff11197404"
      },
      "outputs": [
        {
          "name": "stdout",
          "output_type": "stream",
          "text": [
            "[0.0, 1.0, 1.0, 1.0, 1.0, 1.0, 0.0, 0.0, 1.0, 0.0, 0.0, 1.0, 1.0, 1.0, 1.0, 1.0, 1.0, 1.0, 0.0, 1.0, 1.0, 0.0, 1.0, 1.0, 0.0, 0.0, 1.0, 1.0, 0.0, 0.0, 0.0, 1.0, 1.0, 1.0, 0.0, 0.0, 1.0, 0.0, 1.0, 1.0, 1.0, 1.0, 0.0, 1.0, 0.0, 1.0, 0.0, 0.0, 0.0, 0.0, 0.0, 0.0, 1.0, 0.0, 1.0, 1.0, 0.0, 0.0, 1.0, 1.0, 1.0, 1.0, 0.0, 0.0, 0.0, 0.0, 0.0, 0.0, 1.0, 0.0, 0.0, 1.0, 1.0, 1.0, 1.0, 0.0, 1.0, 1.0, 1.0, 0.0, 1.0, 0.0, 0.0, 0.0, 0.0, 1.0, 0.0, 0.0, 1.0, 1.0, 0.0, 1.0, 1.0, 1.0, 1.0, 0.0, 1.0, 1.0, 0.0, 0.0, 0.0, 0.0, 1.0, 0.0, 1.0, 0.0, 0.0, 0.0, 1.0, 0.0, 1.0, 0.0, 1.0, 1.0, 0.0, 0.0, 1.0, 1.0, 1.0, 1.0, 1.0, 0.0, 0.0, 0.0, 1.0, 0.0, 1.0, 0.0, 1.0, 0.0, 1.0, 1.0, 1.0, 0.0, 1.0, 0.0, 0.0, 0.0, 1.0, 1.0, 0.0, 0.0, 1.0, 1.0, 0.0, 1.0, 1.0, 0.0, 1.0, 1.0, 0.0, 0.0, 1.0, 1.0, 1.0, 0.0, 1.0, 1.0, 0.0, 1.0, 0.0, 1.0, 0.0, 1.0, 1.0, 0.0, 1.0, 1.0, 1.0, 1.0, 1.0, 0.0, 1.0, 0.0, 1.0, 1.0, 1.0, 0.0, 1.0, 0.0, 0.0, 1.0, 0.0, 1.0]\n"
          ]
        }
      ],
      "source": [
        "print(y_pred)"
      ]
    },
    {
      "cell_type": "markdown",
      "metadata": {
        "id": "4Af1rruRsRz3"
      },
      "source": [
        "**Model Evalution**"
      ]
    },
    {
      "cell_type": "code",
      "execution_count": 21,
      "metadata": {
        "colab": {
          "base_uri": "https://localhost:8080/"
        },
        "id": "8Yp3Bo2jsRMx",
        "outputId": "d482b1cb-c6f3-4abc-ed3f-8a8e3aee2de2"
      },
      "outputs": [
        {
          "name": "stdout",
          "output_type": "stream",
          "text": [
            "61.41304347826087 %\n"
          ]
        }
      ],
      "source": [
        "# Calculating the Accuracy Score of out KNN model\n",
        "accuracy=accuracy_score(Y_test,y_pred)\n",
        "print(accuracy*100,\"%\")"
      ]
    },
    {
      "cell_type": "markdown",
      "metadata": {
        "id": "9yFXBXfIttnC"
      },
      "source": [
        "### KNN Classifier in SKlearn"
      ]
    },
    {
      "cell_type": "code",
      "execution_count": 22,
      "metadata": {
        "id": "iYXPQEE8yXGh"
      },
      "outputs": [],
      "source": [
        "X=heart_dataset.drop(columns='Target',axis=1)\n",
        "Y=heart_dataset['Target']"
      ]
    },
    {
      "cell_type": "code",
      "execution_count": 23,
      "metadata": {
        "id": "KTRMRIg5yf2n"
      },
      "outputs": [],
      "source": [
        "X_train, X_test, Y_train, Y_test = train_test_split(X, Y, test_size=0.2, stratify=Y, random_state=2)"
      ]
    },
    {
      "cell_type": "code",
      "execution_count": 24,
      "metadata": {
        "colab": {
          "base_uri": "https://localhost:8080/"
        },
        "id": "8vaKhT5Ss1z8",
        "outputId": "58dc4057-838b-4992-90bf-912c70c6df05"
      },
      "outputs": [
        {
          "data": {
            "text/plain": [
              "KNeighborsClassifier(p=1)"
            ]
          },
          "execution_count": 24,
          "metadata": {},
          "output_type": "execute_result"
        }
      ],
      "source": [
        "classifier=KNeighborsClassifier(p=1) # p=1 means Mannhattan distance and p=2 means Euclidean distance\n",
        "classifier.fit(X_train, Y_train) # fitting our dataset "
      ]
    },
    {
      "cell_type": "code",
      "execution_count": 25,
      "metadata": {
        "colab": {
          "base_uri": "https://localhost:8080/"
        },
        "id": "LRbQ-DxCuPbc",
        "outputId": "b7a36103-1811-4ad7-be21-63b74ef99791"
      },
      "outputs": [
        {
          "name": "stdout",
          "output_type": "stream",
          "text": [
            "64.67391304347827 %\n"
          ]
        }
      ],
      "source": [
        "y_pred=classifier.predict(X_test)\n",
        "accuracy=accuracy_score(Y_test,y_pred)\n",
        "print(accuracy*100,\"%\")"
      ]
    },
    {
      "cell_type": "markdown",
      "metadata": {
        "id": "iSQNhkWNaveL"
      },
      "source": [
        "### Conclusion"
      ]
    },
    {
      "cell_type": "markdown",
      "metadata": {
        "id": "2lAOEXhvb-2Y"
      },
      "source": [
        "We have seen the implementation of K-Nearest Neighbors Classifier from Scratch. We came to a conclusion that our model has an accuracy of **61.41%** compared to model present in SKLearn whose accuracy prediction was **64.67%** which is quit good. We have taken a small dataset for good baseline and easy to explain. "
      ]
    }
  ],
  "metadata": {
    "colab": {
      "collapsed_sections": [],
      "name": "K-Nearest Neighbors Classifier from Scratch in Python.ipynb",
      "provenance": [],
      "toc_visible": true
    },
    "kernelspec": {
      "display_name": "Python 3",
      "name": "python3"
    },
    "language_info": {
      "name": "python"
    }
  },
  "nbformat": 4,
  "nbformat_minor": 0
}
